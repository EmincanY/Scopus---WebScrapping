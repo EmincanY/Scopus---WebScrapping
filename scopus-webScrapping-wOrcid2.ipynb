{
 "cells": [
  {
   "cell_type": "code",
   "execution_count": 1,
   "metadata": {},
   "outputs": [],
   "source": [
    "import pandas as pd\n",
    "import numpy as np\n",
    "import requests\n",
    "from bs4 import BeautifulSoup"
   ]
  },
  {
   "cell_type": "code",
   "execution_count": 6,
   "metadata": {},
   "outputs": [
    {
     "data": {
      "text/html": [
       "<div>\n",
       "<style scoped>\n",
       "    .dataframe tbody tr th:only-of-type {\n",
       "        vertical-align: middle;\n",
       "    }\n",
       "\n",
       "    .dataframe tbody tr th {\n",
       "        vertical-align: top;\n",
       "    }\n",
       "\n",
       "    .dataframe thead th {\n",
       "        text-align: right;\n",
       "    }\n",
       "</style>\n",
       "<table border=\"1\" class=\"dataframe\">\n",
       "  <thead>\n",
       "    <tr style=\"text-align: right;\">\n",
       "      <th></th>\n",
       "      <th>0</th>\n",
       "      <th>1</th>\n",
       "      <th>2</th>\n",
       "      <th>3</th>\n",
       "      <th>4</th>\n",
       "      <th>5</th>\n",
       "      <th>6</th>\n",
       "      <th>7</th>\n",
       "      <th>8</th>\n",
       "    </tr>\n",
       "  </thead>\n",
       "  <tbody>\n",
       "    <tr>\n",
       "      <th>0</th>\n",
       "      <td>NaN</td>\n",
       "      <td>NPI</td>\n",
       "      <td>C0: Last Name</td>\n",
       "      <td>C0:First name</td>\n",
       "      <td>C0: Middle name</td>\n",
       "      <td>C1: Name to Display</td>\n",
       "      <td>affiliation</td>\n",
       "      <td>C16: email</td>\n",
       "      <td>OrcidID</td>\n",
       "    </tr>\n",
       "    <tr>\n",
       "      <th>1</th>\n",
       "      <td>0.0</td>\n",
       "      <td>1548237738</td>\n",
       "      <td>Merritt</td>\n",
       "      <td>Daniel</td>\n",
       "      <td>NaN</td>\n",
       "      <td>Daniel Merritt</td>\n",
       "      <td>Longview Regional Medical Center</td>\n",
       "      <td>dbmerrittjr@gmail.com</td>\n",
       "      <td>NaN</td>\n",
       "    </tr>\n",
       "    <tr>\n",
       "      <th>2</th>\n",
       "      <td>1.0</td>\n",
       "      <td>1326209347</td>\n",
       "      <td>Woods Md</td>\n",
       "      <td>Daniel</td>\n",
       "      <td>NaN</td>\n",
       "      <td>Daniel Woods</td>\n",
       "      <td>Orthopedics Specialists Of Northwest Indiana</td>\n",
       "      <td>daniel.woods@jeffersonhospital.org</td>\n",
       "      <td>NaN</td>\n",
       "    </tr>\n",
       "    <tr>\n",
       "      <th>3</th>\n",
       "      <td>2.0</td>\n",
       "      <td>1396743779</td>\n",
       "      <td>Adkison</td>\n",
       "      <td>David</td>\n",
       "      <td>NaN</td>\n",
       "      <td>David Adkison</td>\n",
       "      <td>Ascension St Vincents Birmingham</td>\n",
       "      <td>dadkison3009@charter.net</td>\n",
       "      <td>0000-0002-5789-8240</td>\n",
       "    </tr>\n",
       "    <tr>\n",
       "      <th>4</th>\n",
       "      <td>3.0</td>\n",
       "      <td>1639128002</td>\n",
       "      <td>Camarata</td>\n",
       "      <td>David</td>\n",
       "      <td>NaN</td>\n",
       "      <td>David Camarata</td>\n",
       "      <td>Arizona Bone And Joint Specialitst</td>\n",
       "      <td>david.camarata@honorhealth.com</td>\n",
       "      <td>NaN</td>\n",
       "    </tr>\n",
       "  </tbody>\n",
       "</table>\n",
       "</div>"
      ],
      "text/plain": [
       "     0           1              2              3                4  \\\n",
       "0  NaN         NPI  C0: Last Name  C0:First name  C0: Middle name   \n",
       "1  0.0  1548237738        Merritt         Daniel              NaN   \n",
       "2  1.0  1326209347       Woods Md         Daniel              NaN   \n",
       "3  2.0  1396743779        Adkison          David              NaN   \n",
       "4  3.0  1639128002       Camarata          David              NaN   \n",
       "\n",
       "                     5                                             6  \\\n",
       "0  C1: Name to Display                                   affiliation   \n",
       "1       Daniel Merritt              Longview Regional Medical Center   \n",
       "2         Daniel Woods  Orthopedics Specialists Of Northwest Indiana   \n",
       "3        David Adkison              Ascension St Vincents Birmingham   \n",
       "4       David Camarata            Arizona Bone And Joint Specialitst   \n",
       "\n",
       "                                    7                    8  \n",
       "0                          C16: email              OrcidID  \n",
       "1               dbmerrittjr@gmail.com                  NaN  \n",
       "2  daniel.woods@jeffersonhospital.org                  NaN  \n",
       "3            dadkison3009@charter.net  0000-0002-5789-8240  \n",
       "4      david.camarata@honorhealth.com                  NaN  "
      ]
     },
     "execution_count": 6,
     "metadata": {},
     "output_type": "execute_result"
    }
   ],
   "source": [
    "# df = pd.read_excel('E:\\ABD-work\\Exact-names-sample10000.xlsx' , sheet_name=0 , header=None) # Semih hocanın gönderdiği dosyanın konumunu yazalım.\n",
    "# df.rename({0:'OrcidID'} , axis = 1 , inplace=True)\n",
    "# df.head()"
   ]
  },
  {
   "cell_type": "code",
   "execution_count": null,
   "metadata": {},
   "outputs": [],
   "source": [
    "df['ScopusID'] = np.nan\n",
    "# df['Scopus_MatchType'] = np.nan\n",
    "# df['Scopus_NumOfResults'] = np.nan"
   ]
  },
  {
   "cell_type": "code",
   "execution_count": null,
   "metadata": {},
   "outputs": [],
   "source": [
    "df['ScopusID'] = df['ScopusID'].astype('object')"
   ]
  },
  {
   "cell_type": "code",
   "execution_count": null,
   "metadata": {},
   "outputs": [],
   "source": [
    "headers = {\n",
    "    \"User-Agent\": \"Buraya User-Agent bilgilerinizi yazacaksınız. Googleye My User Agent yazınca çıkıyor.\"\n",
    "}"
   ]
  },
  {
   "cell_type": "code",
   "execution_count": 3,
   "metadata": {},
   "outputs": [],
   "source": [
    "fuzzy_count = 0\n",
    "exact_count = 0"
   ]
  },
  {
   "cell_type": "code",
   "execution_count": null,
   "metadata": {},
   "outputs": [],
   "source": [
    "def get_exact_scopus_id(orcid):\n",
    "    global fuzzy_count , exact_count\n",
    "    try : \n",
    "        orcid = orcid\n",
    "        r = requests.get(f\"https://www.scopus.com/results/authorNamesList.uri?sort=count-f&src=al&orcidId={orcid}&sid=b7605a2c701a14c0d136648699739b87&sot=al&sdt=al&sl=36&s=AUTH--ORCID--ID%28{orcid}%29&selectionPageSearch=anl&reselectAuthor=false&activeFlag=true&showDocument=false&resultsPerPage=20&offset=1&jtp=false&currentPage=1&previousSelectionCount=0&tooManySelections=false&previousResultCount=0&authSubject=LFSC&authSubject=HLSC&authSubject=PHSC&authSubject=SOSC&exactAuthorSearch=false&showFullList=false&authorPreferredName=&origin=searchauthorfreelookup&affiliationId=&txGid=e4f338e3dab473a40424b29187e91bb0\" , \n",
    "                 headers=headers)\n",
    "        # exactAuthorSearch=false\n",
    "        html = r.text\n",
    "        soup = BeautifulSoup(html , 'html.parser')\n",
    "        scopus_id = soup.find_all('input' , id = 'pageItems' , value = lambda x : x and x.isnumeric())[0]['value']\n",
    "        exact_count += 1\n",
    "        return scopus_id\n",
    "    except : \n",
    "        fuzzy_count += 1"
   ]
  },
  {
   "cell_type": "code",
   "execution_count": null,
   "metadata": {},
   "outputs": [],
   "source": [
    "for index, row in df.iterrows():\n",
    "    orcid = row['OrcidID']\n",
    "    \n",
    "    scopus_id = None\n",
    "    for i in range(2):\n",
    "        scopus_id = get_exact_scopus_id(orcid)\n",
    "        if scopus_id != None : \n",
    "            df.at[index, 'ScopusID'] = scopus_id\n",
    "            break\n"
   ]
  },
  {
   "cell_type": "code",
   "execution_count": null,
   "metadata": {},
   "outputs": [],
   "source": [
    "total = df.shape[0]\n",
    "exact_rate = df[''] / total\n",
    "fuzzy_rate = fuzzy_count / total"
   ]
  },
  {
   "cell_type": "code",
   "execution_count": null,
   "metadata": {},
   "outputs": [],
   "source": [
    "print(f\"\"\"\n",
    "      Total Count : {total}\n",
    "      Exact Count : {exact_count} Exact Rate : {exact_rate}\n",
    "      Fuzzy Count : {fuzzy_count} Fuzzy Rate : {fuzzy_rate} \n",
    "      \"\"\")"
   ]
  },
  {
   "cell_type": "code",
   "execution_count": null,
   "metadata": {},
   "outputs": [],
   "source": [
    "# Şimdilik bu işimizi görür ama geliştirilecek kısımlar var"
   ]
  }
 ],
 "metadata": {
  "kernelspec": {
   "display_name": "Python 3",
   "language": "python",
   "name": "python3"
  },
  "language_info": {
   "codemirror_mode": {
    "name": "ipython",
    "version": 3
   },
   "file_extension": ".py",
   "mimetype": "text/x-python",
   "name": "python",
   "nbconvert_exporter": "python",
   "pygments_lexer": "ipython3",
   "version": "3.10.9 (tags/v3.10.9:1dd9be6, Dec  6 2022, 20:01:21) [MSC v.1934 64 bit (AMD64)]"
  },
  "orig_nbformat": 4,
  "vscode": {
   "interpreter": {
    "hash": "aa38ca2d4ac5334f8facb9127846041594939b57ea42b4afe5d7eb655aac64f1"
   }
  }
 },
 "nbformat": 4,
 "nbformat_minor": 2
}
